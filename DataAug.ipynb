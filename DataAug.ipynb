{
 "cells": [
  {
   "cell_type": "code",
   "execution_count": 14,
   "metadata": {},
   "outputs": [],
   "source": [
    "import os\n",
    "from torchvision import transforms\n",
    "from torchvision.datasets import ImageFolder\n",
    "from torch.utils.data import DataLoader, ConcatDataset\n",
    "\n",
    "# Define the path to the root directory of the dataset\n",
    "data_dir = \"dataset_strw_vs_pear/train/\"\n",
    "\n",
    "# Define the transformation to apply to the dataset images\n",
    "transform = transforms.Compose([\n",
    "    transforms.Resize(200),\n",
    "    transforms.CenterCrop(200),\n",
    "    transforms.RandomHorizontalFlip(p=0.5),\n",
    "    transforms.RandomVerticalFlip(p=0.5),\n",
    "    transforms.RandomRotation(degrees=45),\n",
    "    # transforms.ColorJitter(brightness=0.2, contrast=0.2, saturation=0.2, hue=0.2),\n",
    "    transforms.ToTensor()\n",
    "])\n",
    "\n",
    "# Load the dataset using the ImageFolder class and apply the transformation\n",
    "dataset = ImageFolder(root=data_dir, transform=transform)\n",
    "\n",
    "# Define the data loader for the augmented dataset\n",
    "loader = DataLoader(dataset, batch_size=32, shuffle=True)\n",
    "\n",
    "\n"
   ]
  },
  {
   "cell_type": "code",
   "execution_count": 15,
   "metadata": {},
   "outputs": [
    {
     "data": {
      "text/plain": [
       "['pear', 'strawberry']"
      ]
     },
     "execution_count": 15,
     "metadata": {},
     "output_type": "execute_result"
    }
   ],
   "source": [
    "dataset.classes"
   ]
  },
  {
   "cell_type": "code",
   "execution_count": 13,
   "metadata": {},
   "outputs": [],
   "source": [
    "# Loop through each batch of data, save the augmented images to their respective folders\n",
    "for i, (images, labels) in enumerate(loader):\n",
    "    for j in range(len(images)):\n",
    "        image = images[j]\n",
    "        label = labels[j]\n",
    "        class_dir = os.path.join(data_dir, dataset.classes[label])\n",
    "        filename = f\"{i}_{j}.png\"\n",
    "        path = os.path.join(class_dir, filename)\n",
    "        transforms.ToPILImage()(image).save(path)\n",
    "\n"
   ]
  },
  {
   "cell_type": "code",
   "execution_count": 1,
   "metadata": {},
   "outputs": [],
   "source": [
    "# Merge the original and augmented data in their respective folders\n",
    "for class_name in dataset.classes:\n",
    "    class_dir = os.path.join(data_dir, class_name)\n",
    "    orig_dataset = ImageFolder(root=class_dir)\n",
    "    aug_dataset = ImageFolder(root=class_dir)\n",
    "    merged_dataset = ConcatDataset([orig_dataset, aug_dataset])\n",
    "    merged_loader = DataLoader(merged_dataset, batch_size=32, shuffle=True)\n",
    "    for i, (images, labels) in enumerate(merged_loader):\n",
    "        for j in range(len(images)):\n",
    "            image = images[j]\n",
    "            label = labels[j]\n",
    "            filename = f\"{i}_{j}.png\"\n",
    "            path = os.path.join(class_dir, filename)\n",
    "            transforms.ToPILImage()(image).save(path)"
   ]
  }
 ],
 "metadata": {
  "kernelspec": {
   "display_name": "Python 3",
   "language": "python",
   "name": "python3"
  },
  "language_info": {
   "codemirror_mode": {
    "name": "ipython",
    "version": 3
   },
   "file_extension": ".py",
   "mimetype": "text/x-python",
   "name": "python",
   "nbconvert_exporter": "python",
   "pygments_lexer": "ipython3",
   "version": "3.10.10"
  },
  "orig_nbformat": 4
 },
 "nbformat": 4,
 "nbformat_minor": 2
}
