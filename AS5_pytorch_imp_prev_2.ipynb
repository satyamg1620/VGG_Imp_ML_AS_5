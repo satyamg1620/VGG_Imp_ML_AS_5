{
  "cells": [
    {
      "cell_type": "code",
      "execution_count": 1,
      "metadata": {
        "id": "6naQwrJ7xB_5",
        "scrolled": true
      },
      "outputs": [],
      "source": [
        "# !unzip dataset_strw_vs_pear.zip"
      ]
    },
    {
      "cell_type": "code",
      "execution_count": 2,
      "metadata": {
        "colab": {
          "base_uri": "https://localhost:8080/"
        },
        "id": "Q5q2eTEFnuDI",
        "outputId": "874e676c-2009-4413-8084-028f4f63f6fe",
        "scrolled": true
      },
      "outputs": [
        {
          "output_type": "stream",
          "name": "stdout",
          "text": [
            "Drive already mounted at /content/gdrive; to attempt to forcibly remount, call drive.mount(\"/content/gdrive\", force_remount=True).\n"
          ]
        }
      ],
      "source": [
        "import torch\n",
        "import torch.nn as nn\n",
        "import torch.optim as optim\n",
        "import numpy as np\n",
        "import matplotlib.pyplot as plt\n",
        "# import idx2numpy\n",
        "from torch.utils.data import Dataset, DataLoader\n",
        "from torchvision import transforms, datasets\n",
        "from PIL import Image\n",
        "from tqdm.notebook import tqdm\n",
        "from torch.utils.tensorboard import SummaryWriter\n",
        "import tempfile\n",
        "import torchvision.models as models\n",
        "import torchvision\n",
        "from torch.optim import lr_scheduler\n",
        "import time\n",
        "import copy\n",
        "from google.colab import drive\n",
        "import matplotlib.image as mpimg\n",
        "from PIL import Image\n",
        "drive.mount(\"/content/gdrive\")\n",
        "import os\n",
        "from google.colab import files\n",
        "import shutil"
      ]
    },
    {
      "cell_type": "code",
      "execution_count": 3,
      "metadata": {
        "id": "cIZNSjIsnuDK"
      },
      "outputs": [],
      "source": [
        "class VGG_1b(nn.Module):\n",
        "    def __init__(self):\n",
        "        super(VGG_1b, self).__init__()\n",
        "        self.conv1 = nn.Conv2d(3, 32, 3, padding=1)\n",
        "        self.fc1 = nn.Linear(320000, 512)\n",
        "        self.fc2 = nn.Linear(512, 128)\n",
        "        self.fc3 = nn.Linear(128, 2)\n",
        "\n",
        "    def forward(self, x):\n",
        "        # print('hi')\n",
        "        # print(x.shape)\n",
        "        x = nn.functional.relu(self.conv1(x))\n",
        "        x = nn.functional.max_pool2d(x, 2)\n",
        "        x = x.view(x.size(0), -1)\n",
        "        x = nn.functional.relu(self.fc1(x))\n",
        "        x = nn.functional.dropout(x, p=0.5, training=self.training)\n",
        "        x = nn.functional.relu(self.fc2(x))\n",
        "        x = nn.functional.dropout(x, p=0.5, training=self.training)\n",
        "        x = self.fc3(x)\n",
        "        return x\n"
      ]
    },
    {
      "cell_type": "code",
      "execution_count": 4,
      "metadata": {
        "id": "2FDoAirLnuDL"
      },
      "outputs": [],
      "source": [
        "class VGG(nn.Module):\n",
        "    def __init__(self):\n",
        "        super(VGG, self).__init__()\n",
        "        self.conv1 = nn.Conv2d(3, 32, 3, padding=3)\n",
        "        self.conv2 = nn.Conv2d(32, 64, 3, padding=3)\n",
        "        self.conv3 = nn.Conv2d(64, 128, 3, padding=3)\n",
        "        self.fc1 = nn.Linear(100352, 1024)\n",
        "        self.fc2 = nn.Linear(1024, 256)\n",
        "        self.fc3 = nn.Linear(256, 2)\n",
        "\n",
        "    def forward(self, x):\n",
        "\n",
        "        x = nn.functional.relu(self.conv1(x))\n",
        "        x = nn.functional.max_pool2d(x, 2)\n",
        "        x = nn.functional.relu(self.conv2(x))\n",
        "        x = nn.functional.max_pool2d(x, 2)\n",
        "        x = nn.functional.relu(self.conv3(x))\n",
        "        x = nn.functional.max_pool2d(x, 2)\n",
        "        x = x.view(x.size(0), -1)\n",
        "        x = nn.functional.relu(self.fc1(x))\n",
        "        x = nn.functional.dropout(x, p=0.5, training=self.training)\n",
        "        x = nn.functional.relu(self.fc2(x))\n",
        "        x = nn.functional.dropout(x, p=0.5, training=self.training)\n",
        "        x = self.fc3(x)\n",
        "        return x\n"
      ]
    },
    {
      "cell_type": "code",
      "execution_count": 5,
      "metadata": {
        "id": "adPHnI50nuDM"
      },
      "outputs": [],
      "source": [
        "class FeedForwardNetwork(nn.Module):\n",
        "    \"\"\"layerwise_hidden_dims is a list of hidden dimension size in consecutive layers. layerwise_activations is a list that stores the activation function to be used after each layer.\"\"\"\n",
        "    def __init__(self, input_size, output_size, layerwise_hidden_dims, layerwise_activations):\n",
        "        super(FeedForwardNetwork, self).__init__()\n",
        "        self.flatten = nn.Flatten()\n",
        "        self.linear_relu_stack = nn.Sequential(\n",
        "            nn.Linear(input_size, layerwise_hidden_dims[0]),\n",
        "            layerwise_activations(),\n",
        "            # nn.Linear(layerwise_hidden_dims[0], layerwise_hidden_dims[1]),\n",
        "            # layerwise_activations(),\n",
        "            nn.Linear(layerwise_hidden_dims[0], output_size)\n",
        "        )\n",
        "\n",
        "    def forward(self, x):\n",
        "        x = self.flatten(x)\n",
        "#         print(x, x.shape)\n",
        "#         x = x.view(-1, 3*28*28)\n",
        "        logits = self.linear_relu_stack(x)\n",
        "        return logits"
      ]
    },
    {
      "cell_type": "code",
      "execution_count": 6,
      "metadata": {
        "id": "CDjXZpCLnuDN"
      },
      "outputs": [],
      "source": [
        "def train(train_dataloader, test_dataloader, model, criterion, optimizer, device, writer, epochs=10, model_str=\"VGG3\"):\n",
        "    since = time.time()\n",
        "    best_model_wts = copy.deepcopy(model.state_dict())\n",
        "    no_of_steps = 0\n",
        "    no_of_batches = len(train_dataloader)\n",
        "    size = len(train_dataloader.dataset)\n",
        "    model.train()\n",
        "    for epoch in tqdm(range(epochs), desc=\"Epochs\"):\n",
        "        running_loss, total_loss, correct = 0.0, 0.0, 0\n",
        "        for i, data in enumerate(train_dataloader, 0):\n",
        "            inputs, labels = data[0].to(device), data[1].type(torch.LongTensor).to(device)\n",
        "            optimizer.zero_grad()\n",
        "            \n",
        "            outputs = model(inputs.cuda())\n",
        "\n",
        "            loss = criterion(outputs, labels)\n",
        "            loss.backward()\n",
        "            optimizer.step()\n",
        "            cur_loss = loss.item()\n",
        "            running_loss += cur_loss\n",
        "            total_loss += cur_loss\n",
        "            no_of_steps += 1\n",
        "\n",
        "            correct += (outputs.argmax(1) == labels).type(torch.float).sum().item()\n",
        "            writer.add_scalar(f'Training Loss VS Iteration', loss, no_of_steps)\n",
        "            \n",
        "            ##########Train Accuracy for each iteration###########\n",
        "            model.eval()\n",
        "            loc_correct = 0\n",
        "            with torch.no_grad():\n",
        "                for j, data_ in enumerate(train_dataloader, 0):\n",
        "                    inputs_, labels_ = data_[0].to(device), data_[1].type(torch.LongTensor).to(device)\n",
        "                    pred_ = model(inputs_)\n",
        "                    loc_correct += (pred_.argmax(1) == labels_).type(torch.float).sum().item()\n",
        "\n",
        "            loc_correct /= size\n",
        "            writer.add_scalar('Training Accuracy VS Iteration', 100*loc_correct, no_of_steps)\n",
        "\n",
        "            ##########Train Accuracy for each iteration###########\n",
        "            # model.eval()\n",
        "            loc_correct = 0\n",
        "            with torch.no_grad():\n",
        "                for j, data_ in enumerate(test_dataloader, 0):\n",
        "                    inputs_, labels_ = data_[0].to(device), data_[1].type(torch.LongTensor).to(device)\n",
        "                    pred_ = model(inputs_)\n",
        "                    loc_correct += (pred_.argmax(1) == labels_).type(torch.float).sum().item()\n",
        "\n",
        "            loc_correct /= size\n",
        "            writer.add_scalar('Testing Accuracy VS Iteration', 100*loc_correct, no_of_steps)\n",
        "\n",
        "            model.train()            \n",
        "\n",
        "\n",
        "        total_loss /= no_of_batches\n",
        "        correct /= size\n",
        "        writer.add_scalar('Training Accuracy VS Epoch', 100*correct, epoch)\n",
        "        writer.add_scalar('Avg Training Loss VS Epoch', total_loss, epoch) \n",
        "        print(f'Epoch:{epoch} | Training Accuracy:{100*correct} | Training Loss:{total_loss}')\n",
        "\n",
        "        model.eval()\n",
        "        loc_correct = 0\n",
        "        with torch.no_grad():\n",
        "            for j, data_ in enumerate(test_dataloader, 0):\n",
        "                inputs_, labels_ = data_[0].to(device), data_[1].type(torch.LongTensor).to(device)\n",
        "                pred_ = model(inputs_)\n",
        "                loc_correct += (pred_.argmax(1) == labels_).type(torch.float).sum().item()\n",
        "\n",
        "        loc_correct /= size\n",
        "        writer.add_scalar('Test Accuracy VS Epoch', 100*loc_correct, no_of_steps)\n",
        "        model.train() \n",
        "    \n",
        "    print()\n",
        "    time_elapsed = time.time() - since\n",
        "    print('Training complete in {:.0f}m {:.0f}s'.format(\n",
        "        time_elapsed // 60, time_elapsed % 60))\n",
        "    # model.load_state_dict(best_model_wts)\n",
        "    return model\n",
        "\n"
      ]
    },
    {
      "cell_type": "code",
      "execution_count": 7,
      "metadata": {
        "id": "rNe_Po3snuDN"
      },
      "outputs": [],
      "source": [
        "def test(test_dataloader, model, loss_fn, device, writer, model_str=\"VGG3\"):\n",
        "\n",
        "    size = len(test_dataloader.dataset)\n",
        "    num_batches = len(test_dataloader)\n",
        "    model.eval()\n",
        "    test_loss, correct = 0, 0\n",
        "    count = 0\n",
        "    with torch.no_grad():\n",
        "        for i, data in enumerate(test_dataloader, 0):\n",
        "            inputs, labels = data[0].to(device), data[1].type(torch.LongTensor).to(device)\n",
        "#             X = torch.mean(X, 1)\n",
        "            pred = model(inputs)\n",
        "            test_loss += loss_fn(pred, labels).item()\n",
        "            correct += (pred.argmax(1) == labels).type(torch.float).sum().item()\n",
        "            # writer.add_scalar(f'Test Accuracy VS Step', correct, epoch*(num_batches)+count)\n",
        "            count += 1 \n",
        "    test_loss /= num_batches\n",
        "    correct /= size\n",
        "    print(f\"Test Error: \\n Accuracy: {100*(correct):>0.1f}%, Avg loss: {test_loss:>8f} \\n\")"
      ]
    },
    {
      "cell_type": "code",
      "execution_count": 8,
      "metadata": {
        "id": "0tEZLCgCnuDO"
      },
      "outputs": [],
      "source": [
        "# Write the custom Dataset class here\n",
        "class CustomImageDataset(Dataset):\n",
        "    # image_path = '/content/train-images-idx3-ubyte' label_path='/content/train-labels-idx1-ubyte'\n",
        "    def __init__(self, image_path, label_path, transform=None):\n",
        "\n",
        "        self.images = np.load(image_path)\n",
        "        self.labels = np.load(label_path)\n",
        "        self.transform = transform\n",
        "\n",
        "    def __len__(self):\n",
        "        return self.images.shape[0]\n",
        "\n",
        "    def __getitem__(self, idx):\n",
        "\n",
        "        image_array = self.images[idx]\n",
        "        label = self.labels[idx]\n",
        "        image_array = image_array[:3]\n",
        "        return image_array, label"
      ]
    },
    {
      "cell_type": "code",
      "execution_count": 9,
      "metadata": {
        "id": "fKcl1wISnuDO"
      },
      "outputs": [],
      "source": [
        "def get_tranforms(data_aug):\n",
        "    \n",
        "    train_transforms = transforms.Compose([\n",
        "        transforms.Resize(200),\n",
        "        transforms.CenterCrop(200),\n",
        "        transforms.ToTensor(),\n",
        "        # transforms.Normalize(mean=[0.485, 0.456, 0.406], std=[0.229, 0.224, 0.225])])\n",
        "        transforms.Normalize([0.5, 0.5, 0.5], [0.5, 0.5, 0.5])])\n",
        "\n",
        "    test_transforms = transforms.Compose([\n",
        "        transforms.Resize(200),\n",
        "        transforms.CenterCrop(200),\n",
        "        transforms.ToTensor(),\n",
        "        # transforms.Normalize(mean=[0.485, 0.456, 0.406], std=[0.229, 0.224, 0.225])])\n",
        "        transforms.Normalize([0.5, 0.5, 0.5], [0.5, 0.5, 0.5])])\n",
        "    # data_aug = False\n",
        "\n",
        "    # if data_aug:\n",
        "    #     train_transforms = transforms.Compose([transforms.RandomRotation(30),\n",
        "    #                                        transforms.RandomResizedCrop(200),\n",
        "    #                                        transforms.RandomHorizontalFlip(),\n",
        "    #                                        transforms.ToTensor(),\n",
        "    #                                        transforms.Normalize([0.5, 0.5, 0.5], \n",
        "    #                                                             [0.5, 0.5, 0.5])])\n",
        "    return train_transforms, test_transforms"
      ]
    },
    {
      "cell_type": "code",
      "execution_count": 10,
      "metadata": {
        "id": "ljuYk-7qnuDO"
      },
      "outputs": [],
      "source": [
        "# training_data = CustomImageDataset(\n",
        "#     'train_data.npy', 'train_label.npy', transform)\n",
        "# testing_data = CustomImageDataset('test_data.npy', 'test_label.npy', transform)\n",
        "def get_loader(model_str):\n",
        "  data_aug = False\n",
        "  train_transforms, test_transforms = get_tranforms(data_aug)\n",
        "  data_dir = '/content/gdrive/My Drive/dataset_strw_vs_pear'\n",
        "  if model_str =='VGG3_aug':\n",
        "    data_dir = '/content/gdrive/My Drive/dataset_strw_vs_pear_aug'\n",
        "    print(\"Augmented Dataset Taken\")\n",
        "\n",
        "  training_data = datasets.ImageFolder(data_dir + '/train',  \n",
        "                                      transform=train_transforms)                                       \n",
        "  testing_data = datasets.ImageFolder(data_dir + '/test', \n",
        "                                      transform=test_transforms)\n",
        "\n",
        "  train_dataloader = DataLoader(training_data, batch_size=32, shuffle=True)\n",
        "  test_dataloader = DataLoader(testing_data, batch_size=32, shuffle=True)\n",
        "\n",
        "  return train_dataloader, test_dataloader"
      ]
    },
    {
      "cell_type": "code",
      "execution_count": 11,
      "metadata": {
        "id": "AhtwrAFknuDP"
      },
      "outputs": [],
      "source": [
        "\n",
        "def model_init(model_str, writer):\n",
        "  device = torch.device(\"cuda\" if torch.cuda.is_available() else \"cpu\")\n",
        "  model = VGG().to(device)\n",
        "\n",
        "  input_size = 120000#200 * 200 *3\n",
        "  output_size = 2\n",
        "  layerwise_hidden_dims = [1119]# [25*25, 10*5*2]\n",
        "  layerwise_activations = nn.ReLU\n",
        "\n",
        "  # model_str = \"VGG3\"\n",
        "  criterion = nn.CrossEntropyLoss()\n",
        "  if model_str == \"VGG3\":\n",
        "    model = VGG().to(device)\n",
        "  elif model_str == \"VGG1\":\n",
        "    model = VGG_1b().to(device)\n",
        "  elif model_str == \"VGG3_aug\":\n",
        "    model = VGG().to(device)\n",
        "    pass\n",
        "  elif model_str == \"VGG16\":\n",
        "    print(\"Inside VGG16\")\n",
        "    model = models.vgg16(pretrained=True).to(device)\n",
        "    mod = list(model.classifier.children())\n",
        "    mod.pop()\n",
        "    mod.append(torch.nn.Linear(4096, 2))\n",
        "    new_classifier = torch.nn.Sequential(*mod)\n",
        "    model.classifier = new_classifier.cuda()\n",
        "  elif model_str == \"MLP\":\n",
        "    print(\"Inside MLP\")\n",
        "    model = FeedForwardNetwork(input_size, output_size, \n",
        "                              layerwise_hidden_dims, layerwise_activations).to(device)\n",
        "  \n",
        "  optimizer = optim.SGD(model.parameters(), lr=0.001, momentum=0.9)\n",
        "\n",
        "  train_dataloader, test_dataloader = get_loader(model_str)\n",
        "  \n",
        "  model_trained = train(train_dataloader, test_dataloader, model, criterion, optimizer, device, writer, epochs=12, model_str=model_str)\n",
        "  PATH = \"./saved_models\"\n",
        "  # Create directory if it doesn't exist\n",
        "  if not os.path.exists(PATH):\n",
        "      os.makedirs(PATH)\n",
        "  # Save the model to the directory\n",
        "  save_path = os.path.join(PATH, f\"model_{model_str}.pt\")\n",
        "  torch.save(model.state_dict(), save_path)\n",
        "  # Zip the folder you want to download\n",
        "  shutil.make_archive('saved_models', 'zip', '/content/saved_models')\n",
        "\n",
        "  # Download the zip file\n",
        "  files.download('saved_models.zip')\n",
        "  test(test_dataloader, model, criterion, device, writer, model_str=model_str)\n",
        "  return model"
      ]
    },
    {
      "cell_type": "code",
      "execution_count": 12,
      "metadata": {
        "colab": {
          "base_uri": "https://localhost:8080/",
          "height": 821
        },
        "id": "UaITwoA7nuDQ",
        "outputId": "0a4c3cc0-9f73-49bf-9e08-77a93739c283"
      },
      "outputs": [
        {
          "output_type": "display_data",
          "data": {
            "text/plain": [
              "<IPython.core.display.Javascript object>"
            ],
            "application/javascript": [
              "\n",
              "        (async () => {\n",
              "            const url = new URL(await google.colab.kernel.proxyPort(6006, {'cache': true}));\n",
              "            url.searchParams.set('tensorboardColab', 'true');\n",
              "            const iframe = document.createElement('iframe');\n",
              "            iframe.src = url;\n",
              "            iframe.setAttribute('width', '100%');\n",
              "            iframe.setAttribute('height', '800');\n",
              "            iframe.setAttribute('frameborder', 0);\n",
              "            document.body.appendChild(iframe);\n",
              "        })();\n",
              "    "
            ]
          },
          "metadata": {}
        }
      ],
      "source": [
        "%load_ext tensorboard\n",
        "!rm -rf ./logs/\n",
        "# log_dir = tempfile.mkdtemp()   # requires a temp dir tpo store logs\n",
        "%tensorboard --logdir runs  --reload_interval 1  ##reload log every 1 sec"
      ]
    },
    {
      "cell_type": "code",
      "execution_count": 13,
      "metadata": {
        "id": "cwUR5rhdnuDQ"
      },
      "outputs": [],
      "source": [
        "%reload_ext tensorboard\n",
        "m = \"MLP\"\n",
        "model_name = f'/train/model_{m}'\n",
        "writer = SummaryWriter(log_dir='runs/{}'.format(\"tensorboard\") + model_name)"
      ]
    },
    {
      "cell_type": "code",
      "execution_count": null,
      "metadata": {
        "colab": {
          "base_uri": "https://localhost:8080/",
          "height": 228,
          "referenced_widgets": [
            "b4c8e87bcdf548a097af817b11176768",
            "e0cb9fc708574538aa83d30f3053cdbb",
            "e24eb1e34b004a01b55b5337674d55e9",
            "e6386465e3e4471f9d7cfecaade8e4ed",
            "881053bbb8084c57a50c4f1f0b1ac7de",
            "edb4a85babf2448ebcf8d2a536f1b378",
            "b7c1396836ba4c2685698b63a6eb131f",
            "594764c240264326a07f539fcfb5e667",
            "e50b07496e894bffaf4eba4fb92e3470",
            "e090442a122f4a3485f25cd45ea0b4c0",
            "33a5fe7e222541339a464d36d55933e9"
          ]
        },
        "id": "vBQfLKrLnuDR",
        "outputId": "9ed96c60-80c2-4ff1-d639-5b6aab64d9fe",
        "scrolled": false
      },
      "outputs": [
        {
          "output_type": "stream",
          "name": "stdout",
          "text": [
            "Inside MLP\n"
          ]
        },
        {
          "output_type": "display_data",
          "data": {
            "text/plain": [
              "Epochs:   0%|          | 0/12 [00:00<?, ?it/s]"
            ],
            "application/vnd.jupyter.widget-view+json": {
              "version_major": 2,
              "version_minor": 0,
              "model_id": "b4c8e87bcdf548a097af817b11176768"
            }
          },
          "metadata": {}
        },
        {
          "output_type": "stream",
          "name": "stdout",
          "text": [
            "Epoch:0 | Training Accuracy:67.5 | Training Loss:0.5259327590465546\n",
            "Epoch:1 | Training Accuracy:92.5 | Training Loss:0.21874331831932067\n",
            "Epoch:2 | Training Accuracy:95.0 | Training Loss:0.14481711238622666\n",
            "Epoch:3 | Training Accuracy:97.5 | Training Loss:0.06974354535341262\n",
            "Epoch:4 | Training Accuracy:100.0 | Training Loss:0.041161917895078656\n",
            "Epoch:5 | Training Accuracy:100.0 | Training Loss:0.0238040030002594\n",
            "Epoch:6 | Training Accuracy:100.0 | Training Loss:0.01978818476200104\n",
            "Epoch:7 | Training Accuracy:100.0 | Training Loss:0.013952456414699554\n"
          ]
        }
      ],
      "source": [
        "model_trained = model_init(m, writer)"
      ]
    },
    {
      "cell_type": "code",
      "execution_count": null,
      "metadata": {
        "id": "u95HGONinuDR"
      },
      "outputs": [],
      "source": [
        "# testing_data.images.shape, testing_data.labels.shape, training_data.images.shape, training_data.labels.shape"
      ]
    },
    {
      "cell_type": "code",
      "execution_count": null,
      "metadata": {
        "id": "g3DFz8O9nuDR",
        "scrolled": true
      },
      "outputs": [],
      "source": [
        "train_dataloader, test_dataloader = get_loader(m)\n"
      ]
    },
    {
      "cell_type": "code",
      "execution_count": null,
      "metadata": {
        "id": "557f48dRnmoe"
      },
      "outputs": [],
      "source": [
        "\n",
        "test_dataloader.dataset.classes"
      ]
    },
    {
      "cell_type": "code",
      "execution_count": null,
      "metadata": {
        "id": "b9m16Ij-l-l8"
      },
      "outputs": [],
      "source": [
        "device = \"cuda\"\n",
        "true_labels = []\n",
        "pred_labels = []\n",
        "image_list = []\n",
        "size = len(test_dataloader.dataset)\n",
        "num_batches = len(test_dataloader)\n",
        "model_trained.eval()\n",
        "test_loss, correct = 0, 0\n",
        "count = 0\n",
        "with torch.no_grad():\n",
        "    for i, data in enumerate(test_dataloader, 0):\n",
        "        inputs, labels = data[0].to(device), data[1].type(torch.LongTensor).to(device)\n",
        "#             X = torch.mean(X, 1)\n",
        "        pred = model_trained(inputs)\n",
        "        # test_loss += loss_fn(pred, labels).item()\n",
        "        correct += (pred.argmax(1) == labels).type(torch.float).sum().item()\n",
        "        print(f'Label type:{type(labels)}, Pred argmax type: {type(pred.argmax(1))}, Input type:{type(inputs)}')\n",
        "        for i in range(len(labels)):\n",
        "          true_labels.append(labels[i])\n",
        "          pred_labels.append(pred.argmax(1)[i])\n",
        "          image_list.append(inputs[i])\n",
        "          # print(labels)\n"
      ]
    },
    {
      "cell_type": "code",
      "execution_count": null,
      "metadata": {
        "id": "7tfKp-dYpZ51"
      },
      "outputs": [],
      "source": [
        "# true_labels[0].item()\n",
        "# pred_labels[0].item()\n",
        "# image_list[0].shape\n",
        "print(len(image_list))\n",
        "import matplotlib.image as mpimg\n",
        "from PIL import Image\n",
        "type(pred_labels[0].item())"
      ]
    },
    {
      "cell_type": "code",
      "execution_count": null,
      "metadata": {
        "id": "4NvbDNxiSYl-"
      },
      "outputs": [],
      "source": [
        "pred_labels[0]"
      ]
    },
    {
      "cell_type": "code",
      "execution_count": null,
      "metadata": {
        "id": "9Y43bVdRUj-6"
      },
      "outputs": [],
      "source": [
        "\n",
        "import io"
      ]
    },
    {
      "cell_type": "code",
      "execution_count": null,
      "metadata": {
        "colab": {
          "background_save": true
        },
        "id": "rGsrvSLwqOIT"
      },
      "outputs": [],
      "source": [
        "fig, axs = plt.subplots(8, 5, figsize=(20, 20))\n",
        "fig.suptitle(f'{m} model predictions')\n",
        "# img = transform(tensor)\n",
        "count = 0\n",
        "img_tranform = transforms.ToPILImage()\n",
        "for i in range(8):\n",
        "  for j in range(5):\n",
        "    axs[i, j].imshow(img_tranform(image_list[count]))\n",
        "    pred_str = \"Pear\" if pred_labels[count].item() == 0 else \"Strawberry\"\n",
        "    axs[i, j].set_title(f'Predicted:{pred_str}')\n",
        "    axs[i, j].axis('off')\n",
        "    count += 1\n",
        "\n",
        "# buf = io.BytesIO()\n",
        "# fig.savefig(buf, format='jpeg')\n",
        "# buf.seek(0)\n",
        "\n"
      ]
    },
    {
      "cell_type": "code",
      "execution_count": null,
      "metadata": {
        "id": "Sxg7P1t2VRhY"
      },
      "outputs": [],
      "source": [
        "PATH = \"./gdrive/MyDrive/ML_AS5_models/saved_models\"\n",
        "  # Create directory if it doesn't exist\n",
        "if not os.path.exists(PATH):\n",
        "    os.makedirs(PATH)\n",
        "# Save the model to the directory\n",
        "save_path = os.path.join(PATH, f\"model_{m}.pt\")\n",
        "torch.save(model_trained.state_dict(), save_path)\n",
        "# Zip the folder you want to download\n",
        "shutil.make_archive('saved_models', 'zip', PATH)\n",
        "\n",
        "# Download the zip file\n",
        "files.download('saved_models.zip')"
      ]
    },
    {
      "cell_type": "code",
      "execution_count": null,
      "metadata": {
        "id": "cKdHmdfcOecP"
      },
      "outputs": [],
      "source": [
        "\n",
        "writer.add_figure(f'{m} model predicted image', fig)"
      ]
    },
    {
      "cell_type": "code",
      "execution_count": null,
      "metadata": {
        "id": "8glGYaLXtYSy"
      },
      "outputs": [],
      "source": [
        "\n",
        "def count_parameters(model):\n",
        "    \"\"\"\n",
        "    Counts the total number of trainable parameters in a PyTorch model.\n",
        "    \"\"\"\n",
        "    return sum(p.numel() for p in model.parameters() if p.requires_grad)\n"
      ]
    },
    {
      "cell_type": "code",
      "execution_count": null,
      "metadata": {
        "id": "GzfZwwg3tbyF"
      },
      "outputs": [],
      "source": [
        "print(f\"Total Parameters of model {m} are: {count_parameters(model_trained)}\")"
      ]
    },
    {
      "cell_type": "code",
      "execution_count": null,
      "metadata": {
        "id": "4efX873HYmnW"
      },
      "outputs": [],
      "source": [
        "from prettytable import PrettyTable\n",
        "\n",
        "def count_parameters(model):\n",
        "    table = PrettyTable([\"Modules\", \"Parameters\"])\n",
        "    total_params = 0\n",
        "    for name, parameter in model.named_parameters():\n",
        "        if not parameter.requires_grad: continue\n",
        "        param = parameter.numel()\n",
        "        table.add_row([name, param])\n",
        "        total_params+=param\n",
        "    print(table)\n",
        "    print(f\"Total Trainable Params: {total_params}\")\n",
        "    return total_params\n",
        "\n",
        "count_parameters(model_trained)"
      ]
    },
    {
      "cell_type": "code",
      "execution_count": null,
      "metadata": {
        "id": "IaPuZE_Nr6Sj"
      },
      "outputs": [],
      "source": [
        "# Zip the folder you want to download\n",
        "import shutil\n",
        "shutil.make_archive('saved_models', 'zip', '/content/saved_models')\n",
        "\n",
        "# Download the zip file\n",
        "from google.colab import files\n",
        "files.download('saved_models.zip')\n"
      ]
    },
    {
      "cell_type": "code",
      "execution_count": null,
      "metadata": {
        "id": "UcoqPhGH5BVt"
      },
      "outputs": [],
      "source": [
        "import shutil\n",
        "shutil.make_archive('runs', 'zip', '/content/runs')\n",
        "\n",
        "# Download the zip file\n",
        "from google.colab import files\n",
        "files.download('runs.zip')"
      ]
    },
    {
      "cell_type": "code",
      "execution_count": null,
      "metadata": {
        "id": "rZH0TnBYlORZ"
      },
      "outputs": [],
      "source": [
        "134268738\n",
        "\n",
        "150126552\n",
        "75063427\n"
      ]
    },
    {
      "cell_type": "markdown",
      "metadata": {
        "id": "KQKgyVgDnuDU"
      },
      "source": [
        "\n",
        "| |Training time | Training loss | Training accuracy | Testing accuracy | No of model parameters|\n",
        "|-|--- | --- | --- | --- | --- |\n",
        "|VGG (1 block)| 21m 42s |  0.048715802282094954 | 99.375 | 95.0% | 163907330 |\n",
        "|VGG (3 blocks)| 22m 11s | 0.2673647880554199  | 90.625 | 95.0% | 103117634 |\n",
        "|VGG (3 blocks) with data augmentation | 44m 40s |  0.16372035369277 | 93.75 | 100.0% | 103117634 |\n",
        "|Transfer learning using VGG16| 13m 19s(only 12 epochs) | 0.00017252258185180837 | 100 | 100.0% | 134268738 |\n",
        "|MLP|  |   |  |  | 12002677 |\n",
        "\n",
        "\n",
        "25 epochs"
      ]
    },
    {
      "cell_type": "markdown",
      "metadata": {
        "id": "UIuDb5Lpqdeg"
      },
      "source": [
        "\n",
        "+--------------+------------+\n",
        "|   Modules    | Parameters |\n",
        "+--------------+------------+\n",
        "| conv1.weight |    864     |\n",
        "|  conv1.bias  |     32     |\n",
        "| conv2.weight |   18432    |\n",
        "|  conv2.bias  |     64     |\n",
        "| conv3.weight |   73728    |\n",
        "|  conv3.bias  |    128     |\n",
        "|  fc1.weight  | 102760448  |\n",
        "|   fc1.bias   |    1024    |\n",
        "|  fc2.weight  |   262144   |\n",
        "|   fc2.bias   |    256     |\n",
        "|  fc3.weight  |    512     |\n",
        "|   fc3.bias   |     2      |\n",
        "+--------------+------------+\n",
        "Total Trainable Params: 103117634\n",
        "VGG3\n",
        "\n",
        "103117634"
      ]
    },
    {
      "cell_type": "markdown",
      "metadata": {
        "id": "XkvFpWI24Dbl"
      },
      "source": [
        "VGG1\n",
        "\n",
        "+--------------+------------+\n",
        "|   Modules    | Parameters |\n",
        "+--------------+------------+\n",
        "| conv1.weight |    864     |\n",
        "|  conv1.bias  |     32     |\n",
        "|  fc1.weight  | 163840000  |\n",
        "|   fc1.bias   |    512     |\n",
        "|  fc2.weight  |   65536    |\n",
        "|   fc2.bias   |    128     |\n",
        "|  fc3.weight  |    256     |\n",
        "|   fc3.bias   |     2      |\n",
        "+--------------+------------+\n",
        "Total Trainable Params: 163907330\n",
        "\n",
        "163907330"
      ]
    },
    {
      "cell_type": "markdown",
      "metadata": {
        "id": "smJ_SHR4IfKk"
      },
      "source": [
        "VGG3_aug\n",
        "\n",
        "+--------------+------------+\n",
        "|   Modules    | Parameters |\n",
        "+--------------+------------+\n",
        "| conv1.weight |    864     |\n",
        "|  conv1.bias  |     32     |\n",
        "| conv2.weight |   18432    |\n",
        "|  conv2.bias  |     64     |\n",
        "| conv3.weight |   73728    |\n",
        "|  conv3.bias  |    128     |\n",
        "|  fc1.weight  | 102760448  |\n",
        "|   fc1.bias   |    1024    |\n",
        "|  fc2.weight  |   262144   |\n",
        "|   fc2.bias   |    256     |\n",
        "|  fc3.weight  |    512     |\n",
        "|   fc3.bias   |     2      |\n",
        "+--------------+------------+\n",
        "Total Trainable Params: 103117634\n",
        "\n",
        "103117634\n",
        "\n",
        "Testing Loss: 0.093954 "
      ]
    },
    {
      "cell_type": "markdown",
      "metadata": {
        "id": "QFuz3hWVdOYw"
      },
      "source": [
        "VGG16\n",
        "\n",
        "+---------------------+------------+\n",
        "|       Modules       | Parameters |\n",
        "+---------------------+------------+\n",
        "|  features.0.weight  |    1728    |\n",
        "|   features.0.bias   |     64     |\n",
        "|  features.2.weight  |   36864    |\n",
        "|   features.2.bias   |     64     |\n",
        "|  features.5.weight  |   73728    |\n",
        "|   features.5.bias   |    128     |\n",
        "|  features.7.weight  |   147456   |\n",
        "|   features.7.bias   |    128     |\n",
        "|  features.10.weight |   294912   |\n",
        "|   features.10.bias  |    256     |\n",
        "|  features.12.weight |   589824   |\n",
        "|   features.12.bias  |    256     |\n",
        "|  features.14.weight |   589824   |\n",
        "|   features.14.bias  |    256     |\n",
        "|  features.17.weight |  1179648   |\n",
        "|   features.17.bias  |    512     |\n",
        "|  features.19.weight |  2359296   |\n",
        "|   features.19.bias  |    512     |\n",
        "|  features.21.weight |  2359296   |\n",
        "|   features.21.bias  |    512     |\n",
        "|  features.24.weight |  2359296   |\n",
        "|   features.24.bias  |    512     |\n",
        "|  features.26.weight |  2359296   |\n",
        "|   features.26.bias  |    512     |\n",
        "|  features.28.weight |  2359296   |\n",
        "|   features.28.bias  |    512     |\n",
        "| classifier.0.weight | 102760448  |\n",
        "|  classifier.0.bias  |    4096    |\n",
        "| classifier.3.weight |  16777216  |\n",
        "|  classifier.3.bias  |    4096    |\n",
        "| classifier.6.weight |    8192    |\n",
        "|  classifier.6.bias  |     2      |\n",
        "+---------------------+------------+\n",
        "Total Trainable Params: 134268738\n",
        "\n",
        "134268738\n",
        "\n",
        "\n",
        "Test Error: \n",
        " Accuracy: 100.0%, Avg loss: 0.000079 "
      ]
    },
    {
      "cell_type": "markdown",
      "metadata": {
        "id": "JUGbjQ9miIQp"
      },
      "source": [
        "MLP\n",
        "\n",
        "\n",
        "+----------------------------+------------+\n",
        "|          Modules           | Parameters |\n",
        "+----------------------------+------------+\n",
        "| linear_relu_stack.0.weight |  12000000  |\n",
        "|  linear_relu_stack.0.bias  |    100     |\n",
        "| linear_relu_stack.2.weight |    2500    |\n",
        "|  linear_relu_stack.2.bias  |     25     |\n",
        "| linear_relu_stack.4.weight |     50     |\n",
        "|  linear_relu_stack.4.bias  |     2      |\n",
        "+----------------------------+------------+\n",
        "Total Trainable Params: 12002677\n",
        "\n",
        "12002677"
      ]
    }
  ],
  "metadata": {
    "accelerator": "GPU",
    "colab": {
      "provenance": []
    },
    "gpuClass": "standard",
    "kernelspec": {
      "display_name": "Python 3 (ipykernel)",
      "language": "python",
      "name": "python3"
    },
    "language_info": {
      "codemirror_mode": {
        "name": "ipython",
        "version": 3
      },
      "file_extension": ".py",
      "mimetype": "text/x-python",
      "name": "python",
      "nbconvert_exporter": "python",
      "pygments_lexer": "ipython3",
      "version": "3.10.10"
    },
    "widgets": {
      "application/vnd.jupyter.widget-state+json": {
        "b4c8e87bcdf548a097af817b11176768": {
          "model_module": "@jupyter-widgets/controls",
          "model_name": "HBoxModel",
          "model_module_version": "1.5.0",
          "state": {
            "_dom_classes": [],
            "_model_module": "@jupyter-widgets/controls",
            "_model_module_version": "1.5.0",
            "_model_name": "HBoxModel",
            "_view_count": null,
            "_view_module": "@jupyter-widgets/controls",
            "_view_module_version": "1.5.0",
            "_view_name": "HBoxView",
            "box_style": "",
            "children": [
              "IPY_MODEL_e0cb9fc708574538aa83d30f3053cdbb",
              "IPY_MODEL_e24eb1e34b004a01b55b5337674d55e9",
              "IPY_MODEL_e6386465e3e4471f9d7cfecaade8e4ed"
            ],
            "layout": "IPY_MODEL_881053bbb8084c57a50c4f1f0b1ac7de"
          }
        },
        "e0cb9fc708574538aa83d30f3053cdbb": {
          "model_module": "@jupyter-widgets/controls",
          "model_name": "HTMLModel",
          "model_module_version": "1.5.0",
          "state": {
            "_dom_classes": [],
            "_model_module": "@jupyter-widgets/controls",
            "_model_module_version": "1.5.0",
            "_model_name": "HTMLModel",
            "_view_count": null,
            "_view_module": "@jupyter-widgets/controls",
            "_view_module_version": "1.5.0",
            "_view_name": "HTMLView",
            "description": "",
            "description_tooltip": null,
            "layout": "IPY_MODEL_edb4a85babf2448ebcf8d2a536f1b378",
            "placeholder": "​",
            "style": "IPY_MODEL_b7c1396836ba4c2685698b63a6eb131f",
            "value": "Epochs:  67%"
          }
        },
        "e24eb1e34b004a01b55b5337674d55e9": {
          "model_module": "@jupyter-widgets/controls",
          "model_name": "FloatProgressModel",
          "model_module_version": "1.5.0",
          "state": {
            "_dom_classes": [],
            "_model_module": "@jupyter-widgets/controls",
            "_model_module_version": "1.5.0",
            "_model_name": "FloatProgressModel",
            "_view_count": null,
            "_view_module": "@jupyter-widgets/controls",
            "_view_module_version": "1.5.0",
            "_view_name": "ProgressView",
            "bar_style": "",
            "description": "",
            "description_tooltip": null,
            "layout": "IPY_MODEL_594764c240264326a07f539fcfb5e667",
            "max": 12,
            "min": 0,
            "orientation": "horizontal",
            "style": "IPY_MODEL_e50b07496e894bffaf4eba4fb92e3470",
            "value": 8
          }
        },
        "e6386465e3e4471f9d7cfecaade8e4ed": {
          "model_module": "@jupyter-widgets/controls",
          "model_name": "HTMLModel",
          "model_module_version": "1.5.0",
          "state": {
            "_dom_classes": [],
            "_model_module": "@jupyter-widgets/controls",
            "_model_module_version": "1.5.0",
            "_model_name": "HTMLModel",
            "_view_count": null,
            "_view_module": "@jupyter-widgets/controls",
            "_view_module_version": "1.5.0",
            "_view_name": "HTMLView",
            "description": "",
            "description_tooltip": null,
            "layout": "IPY_MODEL_e090442a122f4a3485f25cd45ea0b4c0",
            "placeholder": "​",
            "style": "IPY_MODEL_33a5fe7e222541339a464d36d55933e9",
            "value": " 8/12 [06:51&lt;03:25, 51.33s/it]"
          }
        },
        "881053bbb8084c57a50c4f1f0b1ac7de": {
          "model_module": "@jupyter-widgets/base",
          "model_name": "LayoutModel",
          "model_module_version": "1.2.0",
          "state": {
            "_model_module": "@jupyter-widgets/base",
            "_model_module_version": "1.2.0",
            "_model_name": "LayoutModel",
            "_view_count": null,
            "_view_module": "@jupyter-widgets/base",
            "_view_module_version": "1.2.0",
            "_view_name": "LayoutView",
            "align_content": null,
            "align_items": null,
            "align_self": null,
            "border": null,
            "bottom": null,
            "display": null,
            "flex": null,
            "flex_flow": null,
            "grid_area": null,
            "grid_auto_columns": null,
            "grid_auto_flow": null,
            "grid_auto_rows": null,
            "grid_column": null,
            "grid_gap": null,
            "grid_row": null,
            "grid_template_areas": null,
            "grid_template_columns": null,
            "grid_template_rows": null,
            "height": null,
            "justify_content": null,
            "justify_items": null,
            "left": null,
            "margin": null,
            "max_height": null,
            "max_width": null,
            "min_height": null,
            "min_width": null,
            "object_fit": null,
            "object_position": null,
            "order": null,
            "overflow": null,
            "overflow_x": null,
            "overflow_y": null,
            "padding": null,
            "right": null,
            "top": null,
            "visibility": null,
            "width": null
          }
        },
        "edb4a85babf2448ebcf8d2a536f1b378": {
          "model_module": "@jupyter-widgets/base",
          "model_name": "LayoutModel",
          "model_module_version": "1.2.0",
          "state": {
            "_model_module": "@jupyter-widgets/base",
            "_model_module_version": "1.2.0",
            "_model_name": "LayoutModel",
            "_view_count": null,
            "_view_module": "@jupyter-widgets/base",
            "_view_module_version": "1.2.0",
            "_view_name": "LayoutView",
            "align_content": null,
            "align_items": null,
            "align_self": null,
            "border": null,
            "bottom": null,
            "display": null,
            "flex": null,
            "flex_flow": null,
            "grid_area": null,
            "grid_auto_columns": null,
            "grid_auto_flow": null,
            "grid_auto_rows": null,
            "grid_column": null,
            "grid_gap": null,
            "grid_row": null,
            "grid_template_areas": null,
            "grid_template_columns": null,
            "grid_template_rows": null,
            "height": null,
            "justify_content": null,
            "justify_items": null,
            "left": null,
            "margin": null,
            "max_height": null,
            "max_width": null,
            "min_height": null,
            "min_width": null,
            "object_fit": null,
            "object_position": null,
            "order": null,
            "overflow": null,
            "overflow_x": null,
            "overflow_y": null,
            "padding": null,
            "right": null,
            "top": null,
            "visibility": null,
            "width": null
          }
        },
        "b7c1396836ba4c2685698b63a6eb131f": {
          "model_module": "@jupyter-widgets/controls",
          "model_name": "DescriptionStyleModel",
          "model_module_version": "1.5.0",
          "state": {
            "_model_module": "@jupyter-widgets/controls",
            "_model_module_version": "1.5.0",
            "_model_name": "DescriptionStyleModel",
            "_view_count": null,
            "_view_module": "@jupyter-widgets/base",
            "_view_module_version": "1.2.0",
            "_view_name": "StyleView",
            "description_width": ""
          }
        },
        "594764c240264326a07f539fcfb5e667": {
          "model_module": "@jupyter-widgets/base",
          "model_name": "LayoutModel",
          "model_module_version": "1.2.0",
          "state": {
            "_model_module": "@jupyter-widgets/base",
            "_model_module_version": "1.2.0",
            "_model_name": "LayoutModel",
            "_view_count": null,
            "_view_module": "@jupyter-widgets/base",
            "_view_module_version": "1.2.0",
            "_view_name": "LayoutView",
            "align_content": null,
            "align_items": null,
            "align_self": null,
            "border": null,
            "bottom": null,
            "display": null,
            "flex": null,
            "flex_flow": null,
            "grid_area": null,
            "grid_auto_columns": null,
            "grid_auto_flow": null,
            "grid_auto_rows": null,
            "grid_column": null,
            "grid_gap": null,
            "grid_row": null,
            "grid_template_areas": null,
            "grid_template_columns": null,
            "grid_template_rows": null,
            "height": null,
            "justify_content": null,
            "justify_items": null,
            "left": null,
            "margin": null,
            "max_height": null,
            "max_width": null,
            "min_height": null,
            "min_width": null,
            "object_fit": null,
            "object_position": null,
            "order": null,
            "overflow": null,
            "overflow_x": null,
            "overflow_y": null,
            "padding": null,
            "right": null,
            "top": null,
            "visibility": null,
            "width": null
          }
        },
        "e50b07496e894bffaf4eba4fb92e3470": {
          "model_module": "@jupyter-widgets/controls",
          "model_name": "ProgressStyleModel",
          "model_module_version": "1.5.0",
          "state": {
            "_model_module": "@jupyter-widgets/controls",
            "_model_module_version": "1.5.0",
            "_model_name": "ProgressStyleModel",
            "_view_count": null,
            "_view_module": "@jupyter-widgets/base",
            "_view_module_version": "1.2.0",
            "_view_name": "StyleView",
            "bar_color": null,
            "description_width": ""
          }
        },
        "e090442a122f4a3485f25cd45ea0b4c0": {
          "model_module": "@jupyter-widgets/base",
          "model_name": "LayoutModel",
          "model_module_version": "1.2.0",
          "state": {
            "_model_module": "@jupyter-widgets/base",
            "_model_module_version": "1.2.0",
            "_model_name": "LayoutModel",
            "_view_count": null,
            "_view_module": "@jupyter-widgets/base",
            "_view_module_version": "1.2.0",
            "_view_name": "LayoutView",
            "align_content": null,
            "align_items": null,
            "align_self": null,
            "border": null,
            "bottom": null,
            "display": null,
            "flex": null,
            "flex_flow": null,
            "grid_area": null,
            "grid_auto_columns": null,
            "grid_auto_flow": null,
            "grid_auto_rows": null,
            "grid_column": null,
            "grid_gap": null,
            "grid_row": null,
            "grid_template_areas": null,
            "grid_template_columns": null,
            "grid_template_rows": null,
            "height": null,
            "justify_content": null,
            "justify_items": null,
            "left": null,
            "margin": null,
            "max_height": null,
            "max_width": null,
            "min_height": null,
            "min_width": null,
            "object_fit": null,
            "object_position": null,
            "order": null,
            "overflow": null,
            "overflow_x": null,
            "overflow_y": null,
            "padding": null,
            "right": null,
            "top": null,
            "visibility": null,
            "width": null
          }
        },
        "33a5fe7e222541339a464d36d55933e9": {
          "model_module": "@jupyter-widgets/controls",
          "model_name": "DescriptionStyleModel",
          "model_module_version": "1.5.0",
          "state": {
            "_model_module": "@jupyter-widgets/controls",
            "_model_module_version": "1.5.0",
            "_model_name": "DescriptionStyleModel",
            "_view_count": null,
            "_view_module": "@jupyter-widgets/base",
            "_view_module_version": "1.2.0",
            "_view_name": "StyleView",
            "description_width": ""
          }
        }
      }
    }
  },
  "nbformat": 4,
  "nbformat_minor": 0
}